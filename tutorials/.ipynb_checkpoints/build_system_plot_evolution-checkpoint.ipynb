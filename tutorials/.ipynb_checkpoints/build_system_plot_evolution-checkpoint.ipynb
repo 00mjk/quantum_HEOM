{
 "cells": [
  {
   "cell_type": "code",
   "execution_count": 7,
   "metadata": {},
   "outputs": [
    {
     "ename": "SyntaxError",
     "evalue": "invalid syntax (<ipython-input-7-6ddff85d29e2>, line 11)",
     "output_type": "error",
     "traceback": [
      "\u001b[0;36m  File \u001b[0;32m\"<ipython-input-7-6ddff85d29e2>\"\u001b[0;36m, line \u001b[0;32m11\u001b[0m\n\u001b[0;31m    from .. import quantum_heom.figures as fg\u001b[0m\n\u001b[0m                               ^\u001b[0m\n\u001b[0;31mSyntaxError\u001b[0m\u001b[0;31m:\u001b[0m invalid syntax\n"
     ]
    }
   ],
   "source": [
    "%matplotlib inline\n",
    "import sys\n",
    "\n",
    "from itertools import product\n",
    "import math\n",
    "import matplotlib.pyplot as plt\n",
    "from mpl_toolkits import mplot3d\n",
    "import numpy as np\n",
    "from scipy import linalg as la\n",
    "from scipy import constants as cons\n",
    "\n",
    "sys.\n",
    "import quantum_heom.figures as fg\n",
    "import quantum_heom.operators as op\n",
    "import quantum_heom.quantum_system as qsys\n",
    "import quantum_heom.utilities as util"
   ]
  },
  {
   "cell_type": "code",
   "execution_count": null,
   "metadata": {},
   "outputs": [],
   "source": [
    "# Define set-up parameters\n",
    "N = 4\n",
    "cyclic = True\n",
    "tot_time = 30. \n",
    "dt = 0.01\n",
    "timesteps = int(tot_time / dt)\n",
    "Gamma = 0.15\n",
    "dephaser = 'lindbladian'\n",
    "atomic_units = True\n",
    "# elements = ['11', '12', '21', '22']\n",
    "# elements = ['11', '12', '21', '22', '55']\n",
    "# elements = [str(i) + str(i) for i in range(1, N+1)]\n",
    "elements = [str(i) + str(j) for i, j in product(range(1, N+1), repeat=2)]\n",
    "\n",
    "# Build Hamiltonian and initial density matrix\n",
    "H = op.build_H(N, cyclic, atomic_units=atomic_units)\n",
    "rho_0 = qsys.build_init_dens_matrix(N, atomic_units=atomic_units)\n",
    "\n",
    "# Evolve the density matrix in time for some number of timesteps\n",
    "evolution = qsys.evolve_rho_many_steps(N, rho_0, H, dt, timesteps, \n",
    "                                       Gamma=Gamma, dephaser=dephaser, atomic_units=atomic_units)\n",
    "tr_rho_sq = fg.complex_space_time(evolution, N, cyclic, dt, dephaser, Gamma, elements=elements)\n",
    "print(tr_rho_sq[-1])"
   ]
  },
  {
   "cell_type": "code",
   "execution_count": null,
   "metadata": {},
   "outputs": [],
   "source": [
    "# Create figure\n",
    "# fig = plt.figure(figsize=(20, 10))\n",
    "# ax = fig.subplots((1, 1, 1))\n",
    "\n",
    "# Plot diagonals\n",
    "# ax.plot(t, rho_11, c='red', ls='-', label='$p_{11}$')\n",
    "# ax.plot(t, rho_22, c='green', ls='-', label='$p_{22}$')\n",
    "# ax.plot(t, rho_33, c='blue', ls='-', label='$p_{33}$')\n",
    "# Plot off-diagonals\n",
    "# ax.plot(t, rho_12, c='black', ls='-', label='$p_{12}$')\n",
    "# ax.plot(t, rho_21, c='yellow', ls='--', label='$p_{21}$')\n",
    "# ax.plot(t, rho_13, c='black', ls='-', label='$p_{13}$')\n",
    "# ax.plot(t, rho_31, c='yellow', ls='--', label='$p_{31}$')\n",
    "# ax.plot(t, rho_23, c='black', ls='-', label='$p_{23}$')\n",
    "# ax.plot(t, rho_32, c='yellow', ls='--', label='$p_{32}$')\n",
    "# Plot square trace\n",
    "# ax.plot(t, tr_rho_sq, c='purple', ls='-', label='$tr(p^2)$')\n",
    "\n",
    "# Format plot\n",
    "# plt.legend(loc='best', fontsize='x-large')\n",
    "# plt.xlabel('time', size='20')\n",
    "# plt.ylabel('Probability Amplitude', size='20')\n",
    "# plt.hlines(1/N, t[0], t[-1], color='gray', linestyle='--')\n",
    "# plt.show()"
   ]
  }
 ],
 "metadata": {
  "kernelspec": {
   "display_name": "heom",
   "language": "python",
   "name": "heom"
  },
  "language_info": {
   "codemirror_mode": {
    "name": "ipython",
    "version": 3
   },
   "file_extension": ".py",
   "mimetype": "text/x-python",
   "name": "python",
   "nbconvert_exporter": "python",
   "pygments_lexer": "ipython3",
   "version": "3.6.8"
  }
 },
 "nbformat": 4,
 "nbformat_minor": 2
}
