{
 "cells": [
  {
   "cell_type": "markdown",
   "metadata": {},
   "source": [
    "# Import Modules\n",
    "\n",
    "**Run the cell below to import the relevant modules by running the cell. Select it and type ``shift`` + ``enter``.**"
   ]
  },
  {
   "cell_type": "code",
   "execution_count": 1,
   "metadata": {},
   "outputs": [],
   "source": [
    "import os\n",
    "import sys\n",
    "\n",
    "ROOT_DIR = os.getcwd()[:os.getcwd().rfind('quantum_HEOM')] + 'quantum_HEOM'\n",
    "if ROOT_DIR not in sys.path:\n",
    "    sys.path.append(ROOT_DIR)\n",
    "\n",
    "from quantum_heom import utilities as util"
   ]
  },
  {
   "cell_type": "markdown",
   "metadata": {},
   "source": [
    "# Unit System"
   ]
  },
  {
   "cell_type": "markdown",
   "metadata": {},
   "source": [
    "Ensure that you have set up the package correctly by following the instructions in the [README](https://github.com/jwa7/quantum_HEOM/blob/master/README.md), and that you are execting code from within the ``qheom`` virtual environment. This jupyter notebook can be run by changing the kernel to ``qheom``. In the toolbar above, select 'Kernel' > 'Change Kernel' > 'qheom'. If the ``qheom`` kernel is not an option, see the troubleshooting tips at the bottom of the [README](https://github.com/jwa7/quantum_HEOM/blob/master/README.md).\n",
    "\n",
    "In order to define systems with parameters that make physical sense, any arguments passed must be in the correct units. The unit system is printed here (and also found in the [README](https://github.com/jwa7/quantum_HEOM/blob/master/README.md)):\n",
    "\n",
    "* ``sites`` (dimensionless)\n",
    "* ``init_site_pop`` (dimensionless)\n",
    "* ``time_interval`` (fs)\n",
    "* ``timesteps`` (dimensionless)\n",
    "* ``temperature`` (K)\n",
    "* ``alpha_beta`` (rad ps<sup>-1</sup>)\n",
    "* ``epsi_delta`` (rad ps<sup>-1</sup>)\n",
    "* ``deph_rate`` (rad ps<sup>-1</sup>)   \n",
    "* ``cutoff_freq`` (rad ps<sup>-1</sup>)\n",
    "* ``reorg_energy`` (rad ps<sup>-1</sup>) \n",
    "* ``matsubara_terms`` (dimensionless)\n",
    "* ``matsubara_coeffs`` (dimensionless)\n",
    "* ``matsubara_freqs`` (rad ps<sup>-1</sup>)\n",
    "* ``bath_cutoff`` (dimensionless)\n",
    "\n",
    "Some unit conversions are handled by the unit_conversion method in the ``utilities`` module. The string representations of the units that can currently be converted between are:\n",
    "\n",
    "* ``'cm^-1'``     <---> ``'rad ps^-1'``\n",
    "* ``'cm^-1'``     <---> ``'fs'``\n",
    "* ``'K'``         <---> ``'rad ps^-1'``\n",
    "* ``'fs'``        <---> ``'rad ps^-1'``\n",
    "* ``'fs rad^-1'`` <---> ``'rad ps^-1'``\n",
    "\n",
    "The syntax of the unit conversion method is:\n",
    "\n",
    "``util.unit_conversion(value, unit_from, unit_to)``"
   ]
  },
  {
   "cell_type": "markdown",
   "metadata": {},
   "source": [
    "## Examples"
   ]
  },
  {
   "cell_type": "markdown",
   "metadata": {},
   "source": [
    "For example, to convert 35 cm<sup>-1</sup> into rad ps<sup>-1</sup>:\n",
    "\n",
    "``value_in_rad_per_ps = util.unit_conversion(35, 'cm^-1', 'rad ps^-1')``"
   ]
  },
  {
   "cell_type": "code",
   "execution_count": 2,
   "metadata": {},
   "outputs": [
    {
     "name": "stdout",
     "output_type": "stream",
     "text": [
      "Converted value :  6.5927804855809855 rad ps^-1\n"
     ]
    }
   ],
   "source": [
    "value_in_rad_per_ps = util.unit_conversion(35, 'cm^-1', 'rad ps^-1')\n",
    "print('Converted value : ', value_in_rad_per_ps, 'rad ps^-1')"
   ]
  },
  {
   "cell_type": "code",
   "execution_count": 3,
   "metadata": {},
   "outputs": [
    {
     "name": "stdout",
     "output_type": "stream",
     "text": [
      "Converted value :  76.38235110983301 K\n"
     ]
    }
   ],
   "source": [
    "# Another example\n",
    "value_in_kelvin = util.unit_conversion(10, 'rad ps^-1', 'K')\n",
    "print('Converted value : ', value_in_kelvin, 'K')"
   ]
  },
  {
   "cell_type": "markdown",
   "metadata": {},
   "source": [
    "# Next Steps"
   ]
  },
  {
   "cell_type": "markdown",
   "metadata": {},
   "source": [
    "The unit conventions have been outlined. The controllable parameters for defining a system will be outlined in the next [tutorial]()."
   ]
  }
 ],
 "metadata": {
  "kernelspec": {
   "display_name": "qheom",
   "language": "python",
   "name": "qheom"
  },
  "language_info": {
   "codemirror_mode": {
    "name": "ipython",
    "version": 3
   },
   "file_extension": ".py",
   "mimetype": "text/x-python",
   "name": "python",
   "nbconvert_exporter": "python",
   "pygments_lexer": "ipython3",
   "version": "3.7.6"
  }
 },
 "nbformat": 4,
 "nbformat_minor": 2
}
